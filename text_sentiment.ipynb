{
  "cells": [
    {
      "cell_type": "code",
      "execution_count": null,
      "metadata": {
        "id": "iaDv_B1GYLaD"
      },
      "outputs": [],
      "source": [
        "import requests\n",
        "from bs4 import BeautifulSoup\n",
        "import json"
      ]
    },
    {
      "cell_type": "code",
      "source": [
        "import requests\n",
        "from bs4 import BeautifulSoup\n",
        "import json\n",
        "\n",
        "entry_input = input(\"Please enter what u want to classify : \")\n",
        "\n",
        "if entry_input.startswith(\"https://\"):\n",
        "    url = entry_input\n",
        "    response = requests.get(url)\n",
        "    soup = BeautifulSoup(response.text, 'html.parser')\n",
        "\n",
        "    quotes = soup.find_all(['p', 'h1'])\n",
        "\n",
        "    quote_list = []\n",
        "\n",
        "    for quote in quotes:\n",
        "        quote_text = quote.get_text().strip()\n",
        "        quote_list.append(quote_text)\n",
        "        #print(quote_text)\n",
        "\n",
        "    # Convert list to a single text block\n",
        "    quotes_text = \"\\n\".join(quote_list)\n",
        "\n",
        "    with open(\"quotes.txt\", 'w') as txt_file:\n",
        "        txt_file.write(quotes_text)\n",
        "\n",
        "    print(\"=============================== =============================== ===============================\")\n",
        "    print(\"Done, data is fetched and saved to quotes.txt\")\n",
        "    # print(quotes_text)\n",
        "else:\n",
        "    quotes_text = entry_input\n",
        "\n",
        "\n"
      ],
      "metadata": {
        "colab": {
          "base_uri": "https://localhost:8080/"
        },
        "id": "OdVg0V3QZjis",
        "outputId": "261fa034-7653-4f35-ba55-5d6c1d70a2cb"
      },
      "execution_count": null,
      "outputs": [
        {
          "name": "stdout",
          "output_type": "stream",
          "text": [
            "Please enter what u want to classify : i love you for your helping to me, but the day is very hot and it make more tired\n"
          ]
        }
      ]
    },
    {
      "cell_type": "code",
      "source": [
        "from textblob import TextBlob\n",
        "\n",
        "def analyze_sentiment(text):\n",
        "    # Create a TextBlob object\n",
        "    blob = TextBlob(text)\n",
        "    # Use the sentiment property to get the polarity\n",
        "    sentiment = blob.sentiment.polarity\n",
        "    return sentiment\n",
        "\n",
        "# Example usage:\n",
        "text = quotes_text\n",
        "sentiment_score = analyze_sentiment(text)\n",
        "\n",
        "# Print the sentiment score\n",
        "# print(f\"Sentiment score: {sentiment_score}\")\n",
        "\n",
        "# Classification based on sentiment score\n",
        "if sentiment_score > 0.5 and sentiment_score <= 1:\n",
        "    print(\"Strong Positive sentiment\")\n",
        "elif sentiment_score > 0 and sentiment_score <= 0.5:\n",
        "    print(\"Weak Positive sentiment\")\n",
        "elif sentiment_score < 0 and sentiment_score >= -0.5:\n",
        "    print(\"Weak Negative sentiment\")\n",
        "elif sentiment_score < -0.5 and sentiment_score >= -1:\n",
        "    print(\"Strong Negative sentiment\")\n",
        "else:\n",
        "    print(\"Neutral sentiment\")\n"
      ],
      "metadata": {
        "colab": {
          "base_uri": "https://localhost:8080/"
        },
        "id": "PknYEKHH1b8p",
        "outputId": "1a23d287-84b5-4647-9bdf-ff121a6028a3"
      },
      "execution_count": null,
      "outputs": [
        {
          "output_type": "stream",
          "name": "stdout",
          "text": [
            "Weak Positive sentiment\n"
          ]
        }
      ]
    }
  ],
  "metadata": {
    "colab": {
      "provenance": []
    },
    "kernelspec": {
      "display_name": "Python 3",
      "name": "python3"
    },
    "language_info": {
      "codemirror_mode": {
        "name": "ipython",
        "version": 3
      },
      "file_extension": ".py",
      "mimetype": "text/x-python",
      "name": "python",
      "nbconvert_exporter": "python",
      "pygments_lexer": "ipython3",
      "version": "3.11.5"
    }
  },
  "nbformat": 4,
  "nbformat_minor": 0
}